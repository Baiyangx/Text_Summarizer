{
 "cells": [
  {
   "cell_type": "code",
   "execution_count": 5,
   "id": "4106bb38",
   "metadata": {
    "pycharm": {
     "name": "#%%\n"
    }
   },
   "outputs": [],
   "source": [
    "import pandas as pd\n",
    "import numpy as np\n",
    "import re\n",
    "from nltk.corpus import stopwords\n",
    "import time\n",
    "import torch\n",
    "from pytorchtools import EarlyStopping\n",
    "import math\n",
    "import numpy as np"
   ]
  },
  {
   "cell_type": "code",
   "execution_count": 6,
   "id": "718dc587",
   "metadata": {
    "pycharm": {
     "name": "#%%\n"
    }
   },
   "outputs": [
    {
     "name": "stderr",
     "output_type": "stream",
     "text": [
      "[nltk_data] Downloading package stopwords to\n",
      "[nltk_data]     C:\\Users\\SWong7923\\AppData\\Roaming\\nltk_data...\n",
      "[nltk_data]   Package stopwords is already up-to-date!\n"
     ]
    },
    {
     "data": {
      "text/plain": [
       "True"
      ]
     },
     "execution_count": 6,
     "metadata": {},
     "output_type": "execute_result"
    }
   ],
   "source": [
    "import nltk\n",
    "nltk.download('stopwords')"
   ]
  },
  {
   "cell_type": "code",
   "execution_count": 7,
   "id": "579bb36f",
   "metadata": {
    "pycharm": {
     "name": "#%%\n"
    }
   },
   "outputs": [],
   "source": [
    "reviews = pd.read_csv('\\\\Users\\\\SWong7923\\\\PycharmProjects\\\\pythonProject2\\\\archive\\\\Reviews.csv')"
   ]
  },
  {
   "cell_type": "code",
   "execution_count": 8,
   "id": "420803d5",
   "metadata": {},
   "outputs": [
    {
     "name": "stdout",
     "output_type": "stream",
     "text": [
      "GPU is available\n"
     ]
    }
   ],
   "source": [
    "is_cuda = torch.cuda.is_available()\n",
    "\n",
    "if is_cuda:\n",
    "    device = torch.device(\"cuda\")\n",
    "    print(\"GPU is available\")\n",
    "else:\n",
    "    device = torch.device(\"cpu\")\n",
    "    print(\"GPU not available, CPU used\")"
   ]
  },
  {
   "cell_type": "code",
   "execution_count": 9,
   "id": "0e813654",
   "metadata": {
    "pycharm": {
     "name": "#%%\n"
    }
   },
   "outputs": [
    {
     "data": {
      "text/html": [
       "<div>\n",
       "<style scoped>\n",
       "    .dataframe tbody tr th:only-of-type {\n",
       "        vertical-align: middle;\n",
       "    }\n",
       "\n",
       "    .dataframe tbody tr th {\n",
       "        vertical-align: top;\n",
       "    }\n",
       "\n",
       "    .dataframe thead th {\n",
       "        text-align: right;\n",
       "    }\n",
       "</style>\n",
       "<table border=\"1\" class=\"dataframe\">\n",
       "  <thead>\n",
       "    <tr style=\"text-align: right;\">\n",
       "      <th></th>\n",
       "      <th>Id</th>\n",
       "      <th>ProductId</th>\n",
       "      <th>UserId</th>\n",
       "      <th>ProfileName</th>\n",
       "      <th>HelpfulnessNumerator</th>\n",
       "      <th>HelpfulnessDenominator</th>\n",
       "      <th>Score</th>\n",
       "      <th>Time</th>\n",
       "      <th>Summary</th>\n",
       "      <th>Text</th>\n",
       "    </tr>\n",
       "  </thead>\n",
       "  <tbody>\n",
       "    <tr>\n",
       "      <th>0</th>\n",
       "      <td>1</td>\n",
       "      <td>B001E4KFG0</td>\n",
       "      <td>A3SGXH7AUHU8GW</td>\n",
       "      <td>delmartian</td>\n",
       "      <td>1</td>\n",
       "      <td>1</td>\n",
       "      <td>5</td>\n",
       "      <td>1303862400</td>\n",
       "      <td>Good Quality Dog Food</td>\n",
       "      <td>I have bought several of the Vitality canned d...</td>\n",
       "    </tr>\n",
       "    <tr>\n",
       "      <th>1</th>\n",
       "      <td>2</td>\n",
       "      <td>B00813GRG4</td>\n",
       "      <td>A1D87F6ZCVE5NK</td>\n",
       "      <td>dll pa</td>\n",
       "      <td>0</td>\n",
       "      <td>0</td>\n",
       "      <td>1</td>\n",
       "      <td>1346976000</td>\n",
       "      <td>Not as Advertised</td>\n",
       "      <td>Product arrived labeled as Jumbo Salted Peanut...</td>\n",
       "    </tr>\n",
       "    <tr>\n",
       "      <th>2</th>\n",
       "      <td>3</td>\n",
       "      <td>B000LQOCH0</td>\n",
       "      <td>ABXLMWJIXXAIN</td>\n",
       "      <td>Natalia Corres \"Natalia Corres\"</td>\n",
       "      <td>1</td>\n",
       "      <td>1</td>\n",
       "      <td>4</td>\n",
       "      <td>1219017600</td>\n",
       "      <td>\"Delight\" says it all</td>\n",
       "      <td>This is a confection that has been around a fe...</td>\n",
       "    </tr>\n",
       "    <tr>\n",
       "      <th>3</th>\n",
       "      <td>4</td>\n",
       "      <td>B000UA0QIQ</td>\n",
       "      <td>A395BORC6FGVXV</td>\n",
       "      <td>Karl</td>\n",
       "      <td>3</td>\n",
       "      <td>3</td>\n",
       "      <td>2</td>\n",
       "      <td>1307923200</td>\n",
       "      <td>Cough Medicine</td>\n",
       "      <td>If you are looking for the secret ingredient i...</td>\n",
       "    </tr>\n",
       "    <tr>\n",
       "      <th>4</th>\n",
       "      <td>5</td>\n",
       "      <td>B006K2ZZ7K</td>\n",
       "      <td>A1UQRSCLF8GW1T</td>\n",
       "      <td>Michael D. Bigham \"M. Wassir\"</td>\n",
       "      <td>0</td>\n",
       "      <td>0</td>\n",
       "      <td>5</td>\n",
       "      <td>1350777600</td>\n",
       "      <td>Great taffy</td>\n",
       "      <td>Great taffy at a great price.  There was a wid...</td>\n",
       "    </tr>\n",
       "  </tbody>\n",
       "</table>\n",
       "</div>"
      ],
      "text/plain": [
       "   Id   ProductId          UserId                      ProfileName  \\\n",
       "0   1  B001E4KFG0  A3SGXH7AUHU8GW                       delmartian   \n",
       "1   2  B00813GRG4  A1D87F6ZCVE5NK                           dll pa   \n",
       "2   3  B000LQOCH0   ABXLMWJIXXAIN  Natalia Corres \"Natalia Corres\"   \n",
       "3   4  B000UA0QIQ  A395BORC6FGVXV                             Karl   \n",
       "4   5  B006K2ZZ7K  A1UQRSCLF8GW1T    Michael D. Bigham \"M. Wassir\"   \n",
       "\n",
       "   HelpfulnessNumerator  HelpfulnessDenominator  Score        Time  \\\n",
       "0                     1                       1      5  1303862400   \n",
       "1                     0                       0      1  1346976000   \n",
       "2                     1                       1      4  1219017600   \n",
       "3                     3                       3      2  1307923200   \n",
       "4                     0                       0      5  1350777600   \n",
       "\n",
       "                 Summary                                               Text  \n",
       "0  Good Quality Dog Food  I have bought several of the Vitality canned d...  \n",
       "1      Not as Advertised  Product arrived labeled as Jumbo Salted Peanut...  \n",
       "2  \"Delight\" says it all  This is a confection that has been around a fe...  \n",
       "3         Cough Medicine  If you are looking for the secret ingredient i...  \n",
       "4            Great taffy  Great taffy at a great price.  There was a wid...  "
      ]
     },
     "execution_count": 9,
     "metadata": {},
     "output_type": "execute_result"
    }
   ],
   "source": [
    "reviews.head(5)"
   ]
  },
  {
   "cell_type": "code",
   "execution_count": 10,
   "id": "ce55d73b",
   "metadata": {
    "pycharm": {
     "name": "#%%\n"
    }
   },
   "outputs": [
    {
     "data": {
      "text/plain": [
       "(568454, 10)"
      ]
     },
     "execution_count": 10,
     "metadata": {},
     "output_type": "execute_result"
    }
   ],
   "source": [
    "reviews.shape"
   ]
  },
  {
   "cell_type": "code",
   "execution_count": 11,
   "id": "1279457b",
   "metadata": {
    "pycharm": {
     "name": "#%%\n"
    }
   },
   "outputs": [
    {
     "data": {
      "text/plain": [
       "Id                         0\n",
       "ProductId                  0\n",
       "UserId                     0\n",
       "ProfileName               16\n",
       "HelpfulnessNumerator       0\n",
       "HelpfulnessDenominator     0\n",
       "Score                      0\n",
       "Time                       0\n",
       "Summary                   27\n",
       "Text                       0\n",
       "dtype: int64"
      ]
     },
     "execution_count": 11,
     "metadata": {},
     "output_type": "execute_result"
    }
   ],
   "source": [
    "reviews.isnull().sum()"
   ]
  },
  {
   "cell_type": "code",
   "execution_count": 12,
   "id": "7e4d1f21",
   "metadata": {
    "pycharm": {
     "name": "#%%\n"
    }
   },
   "outputs": [],
   "source": [
    "# reviews['Summary'].replace('',np.nan,inplace=True)\n",
    "reviews.dropna(subset=['Summary', 'Text'],inplace=True)"
   ]
  },
  {
   "cell_type": "code",
   "execution_count": 13,
   "id": "4340d604",
   "metadata": {
    "pycharm": {
     "name": "#%%\n"
    }
   },
   "outputs": [
    {
     "data": {
      "text/plain": [
       "Id                         0\n",
       "ProductId                  0\n",
       "UserId                     0\n",
       "ProfileName               16\n",
       "HelpfulnessNumerator       0\n",
       "HelpfulnessDenominator     0\n",
       "Score                      0\n",
       "Time                       0\n",
       "Summary                    0\n",
       "Text                       0\n",
       "dtype: int64"
      ]
     },
     "execution_count": 13,
     "metadata": {},
     "output_type": "execute_result"
    }
   ],
   "source": [
    "reviews.isnull().sum()"
   ]
  },
  {
   "cell_type": "code",
   "execution_count": 14,
   "id": "4878c4fc",
   "metadata": {
    "pycharm": {
     "name": "#%%\n"
    }
   },
   "outputs": [
    {
     "data": {
      "text/plain": [
       "Index(['Id', 'ProductId', 'UserId', 'ProfileName', 'HelpfulnessNumerator',\n",
       "       'HelpfulnessDenominator', 'Score', 'Time', 'Summary', 'Text'],\n",
       "      dtype='object')"
      ]
     },
     "execution_count": 14,
     "metadata": {},
     "output_type": "execute_result"
    }
   ],
   "source": [
    "reviews.columns"
   ]
  },
  {
   "cell_type": "code",
   "execution_count": 15,
   "id": "c9a9dcdd",
   "metadata": {
    "pycharm": {
     "name": "#%%\n"
    }
   },
   "outputs": [],
   "source": [
    "contractions = { \n",
    "\"ain't\": \"am not\",\n",
    "\"aren't\": \"are not\",\n",
    "\"can't\": \"cannot\",\n",
    "\"can't've\": \"cannot have\",\n",
    "\"'cause\": \"because\",\n",
    "\"could've\": \"could have\",\n",
    "\"couldn't\": \"could not\",\n",
    "\"couldn't've\": \"could not have\",\n",
    "\"didn't\": \"did not\",\n",
    "\"doesn't\": \"does not\",\n",
    "\"don't\": \"do not\",\n",
    "\"hadn't\": \"had not\",\n",
    "\"hadn't've\": \"had not have\",\n",
    "\"hasn't\": \"has not\",\n",
    "\"haven't\": \"have not\",\n",
    "\"he'd\": \"he would\",\n",
    "\"he'd've\": \"he would have\",\n",
    "\"he'll\": \"he will\",\n",
    "\"he's\": \"he is\",\n",
    "\"how'd\": \"how did\",\n",
    "\"how'll\": \"how will\",\n",
    "\"how's\": \"how is\",\n",
    "\"i'd\": \"i would\",\n",
    "\"i'll\": \"i will\",\n",
    "\"i'm\": \"i am\",\n",
    "\"i've\": \"i have\",\n",
    "\"isn't\": \"is not\",\n",
    "\"it'd\": \"it would\",\n",
    "\"it'll\": \"it will\",\n",
    "\"it's\": \"it is\",\n",
    "\"let's\": \"let us\",\n",
    "\"ma'am\": \"madam\",\n",
    "\"mayn't\": \"may not\",\n",
    "\"might've\": \"might have\",\n",
    "\"mightn't\": \"might not\",\n",
    "\"must've\": \"must have\",\n",
    "\"mustn't\": \"must not\",\n",
    "\"needn't\": \"need not\",\n",
    "\"oughtn't\": \"ought not\",\n",
    "\"shan't\": \"shall not\",\n",
    "\"sha'n't\": \"shall not\",\n",
    "\"she'd\": \"she would\",\n",
    "\"she'll\": \"she will\",\n",
    "\"she's\": \"she is\",\n",
    "\"should've\": \"should have\",\n",
    "\"shouldn't\": \"should not\",\n",
    "\"that'd\": \"that would\",\n",
    "\"that's\": \"that is\",\n",
    "\"there'd\": \"there had\",\n",
    "\"there's\": \"there is\",\n",
    "\"they'd\": \"they would\",\n",
    "\"they'll\": \"they will\",\n",
    "\"they're\": \"they are\",\n",
    "\"they've\": \"they have\",\n",
    "\"wasn't\": \"was not\",\n",
    "\"we'd\": \"we would\",\n",
    "\"we'll\": \"we will\",\n",
    "\"we're\": \"we are\",\n",
    "\"we've\": \"we have\",\n",
    "\"weren't\": \"were not\",\n",
    "\"what'll\": \"what will\",\n",
    "\"what're\": \"what are\",\n",
    "\"what's\": \"what is\",\n",
    "\"what've\": \"what have\",\n",
    "\"where'd\": \"where did\",\n",
    "\"where's\": \"where is\",\n",
    "\"who'll\": \"who will\",\n",
    "\"who's\": \"who is\",\n",
    "\"won't\": \"will not\",\n",
    "\"wouldn't\": \"would not\",\n",
    "\"you'd\": \"you would\",\n",
    "\"you'll\": \"you will\",\n",
    "\"you're\": \"you are\",\n",
    "' american ':\n",
    "        [\n",
    "            'amerikan'\n",
    "        ],\n",
    "\n",
    "    ' adolf ':\n",
    "        [\n",
    "            'adolf'\n",
    "        ],\n",
    "\n",
    "\n",
    "    ' hitler ':\n",
    "        [\n",
    "            'hitler'\n",
    "        ],\n",
    "\n",
    "    ' fuck':\n",
    "        [\n",
    "            '(f)(u|[^a-z0-9 ])(c|[^a-z0-9 ])(k|[^a-z0-9 ])([^ ])*',\n",
    "            '(f)([^a-z]*)(u)([^a-z]*)(c)([^a-z]*)(k)',\n",
    "            ' f[!@#\\$%\\^\\&\\*]*u[!@#\\$%\\^&\\*]*k', 'f u u c',\n",
    "            '(f)(c|[^a-z ])(u|[^a-z ])(k)', r'f\\*',\n",
    "            'feck ', ' fux ', 'f\\*\\*', \n",
    "            'f\\-ing', 'f\\.u\\.', 'f###', ' fu ', 'f@ck', 'f u c k', 'f uck', 'f ck','fuk', 'wtf','fucck','f cking'\n",
    "        ],\n",
    "\n",
    "    ' ass ':\n",
    "        [\n",
    "            '[^a-z]ass ', '[^a-z]azz ', 'arrse', ' arse ', '@\\$\\$'\n",
    "                                                           '[^a-z]anus', ' a\\*s\\*s', '[^a-z]ass[^a-z ]',\n",
    "            'a[@#\\$%\\^&\\*][@#\\$%\\^&\\*]', '[^a-z]anal ', 'a s s'\n",
    "        ],\n",
    "\n",
    "    ' asshole ':\n",
    "        [\n",
    "            ' a[s|z]*wipe', 'a[s|z]*[w]*h[o|0]+[l]*e', '@\\$\\$hole', 'ass hole'\n",
    "        ],\n",
    "\n",
    "    ' bitch ':\n",
    "        [\n",
    "            'b[w]*i[t]*ch', 'b!tch',\n",
    "            'bi\\+ch', 'b!\\+ch', '(b)([^a-z]*)(i)([^a-z]*)(t)([^a-z]*)(c)([^a-z]*)(h)',\n",
    "            'biatch', 'bi\\*\\*h', 'bytch', 'b i t c h','beetch'\n",
    "        ],\n",
    "\n",
    "    ' bastard ':\n",
    "        [\n",
    "            'ba[s|z]+t[e|a]+rd'\n",
    "        ],\n",
    "\n",
    "    ' transgender':\n",
    "        [\n",
    "            'transgender','trans gender'\n",
    "        ],\n",
    "\n",
    "    ' gay ':\n",
    "        [\n",
    "            'gay'\n",
    "        ],\n",
    "\n",
    "    ' cock ':\n",
    "        [\n",
    "            '[^a-z]cock', 'c0ck', '[^a-z]cok ', 'c0k', '[^a-z]cok[^aeiou]', ' cawk',\n",
    "            '(c)([^a-z ])(o)([^a-z ]*)(c)([^a-z ]*)(k)', 'c o c k'\n",
    "        ],\n",
    "\n",
    "    ' dick ':\n",
    "        [\n",
    "            ' dick[^aeiou]', 'deek', 'd i c k','diick '\n",
    "        ],\n",
    "\n",
    "    ' suck ':\n",
    "        [\n",
    "            'sucker', '(s)([^a-z ]*)(u)([^a-z ]*)(c)([^a-z ]*)(k)', 'sucks', '5uck', 's u c k'\n",
    "        ],\n",
    "\n",
    "    ' cunt ':\n",
    "        [\n",
    "            'cunt', 'c u n t'\n",
    "        ],\n",
    "\n",
    "    ' bullshit ':\n",
    "        [\n",
    "            'bullsh\\*t', 'bull\\$hit','bs'\n",
    "        ],\n",
    "\n",
    "    ' homosexual':\n",
    "        [\n",
    "            'homo sexual','homosex'\n",
    "        ],\n",
    "\n",
    "    ' jerk ':\n",
    "        [\n",
    "            'jerk'\n",
    "        ],\n",
    "\n",
    "    ' idiot ':\n",
    "        [\n",
    "            'i[d]+io[t]+', '(i)([^a-z ]*)(d)([^a-z ]*)(i)([^a-z ]*)(o)([^a-z ]*)(t)', 'idiots', 'i d i o t'\n",
    "        ],\n",
    "\n",
    "    ' dumb ':\n",
    "        [\n",
    "            '(d)([^a-z ]*)(u)([^a-z ]*)(m)([^a-z ]*)(b)'\n",
    "        ],\n",
    "\n",
    "    ' shit ':\n",
    "        [\n",
    "            'shitty', '(s)([^a-z ]*)(h)([^a-z ]*)(i)([^a-z ]*)(t)', 'shite', '\\$hit', 's h i t'\n",
    "        ],\n",
    "\n",
    "    ' shithole ':\n",
    "        [\n",
    "            'shythole','shit hole'\n",
    "        ],\n",
    "\n",
    "    ' retard ':\n",
    "        [\n",
    "            'returd', 'retad', 'retard', 'wiktard', 'wikitud'\n",
    "        ],\n",
    "\n",
    "    ' rape ':\n",
    "        [\n",
    "            ' raped'\n",
    "        ],\n",
    "\n",
    "    ' dumbass':\n",
    "        [\n",
    "            'dumb ass', 'dubass'\n",
    "        ],\n",
    "\n",
    "    ' asshead':\n",
    "        [\n",
    "            'butthead', 'ass head'\n",
    "        ],\n",
    "\n",
    "    ' sex ':\n",
    "        [\n",
    "            's3x', 'sexuality',\n",
    "        ],\n",
    "\n",
    "\n",
    "    ' nigger ':\n",
    "        [\n",
    "            'nigger', 'ni[g]+a', ' nigr ', 'negrito', 'niguh', 'n3gr', 'n i g g e r'\n",
    "        ],\n",
    "\n",
    "    ' shut the fuck up':\n",
    "        [\n",
    "            'stfu'\n",
    "        ],\n",
    "\n",
    "    ' pussy ':\n",
    "        [\n",
    "            'pussy[^c]', 'pusy', 'pussi[^l]', 'pusses'\n",
    "        ],\n",
    "\n",
    "    ' faggot ':\n",
    "        [\n",
    "            'faggot', ' fa[g]+[s]*[^a-z ]', 'fagot', 'f a g g o t', 'faggit',\n",
    "            '(f)([^a-z ]*)(a)([^a-z ]*)([g]+)([^a-z ]*)(o)([^a-z ]*)(t)', 'fau[g]+ot', 'fae[g]+ot',\n",
    "        ],\n",
    "\n",
    "    ' motherfucker':\n",
    "        [\n",
    "            ' motha ', ' motha f', ' mother f', 'motherucker', 'mother fucker'\n",
    "        ],\n",
    "\n",
    "    ' whore ':\n",
    "        [\n",
    "            'wh\\*\\*\\*', 'w h o r e'\n",
    "        ],\n",
    "    \" White's \" : 'white'\n",
    "}"
   ]
  },
  {
   "cell_type": "code",
   "execution_count": 16,
   "id": "518a3fdc",
   "metadata": {
    "pycharm": {
     "name": "#%%\n"
    }
   },
   "outputs": [],
   "source": [
    "def clean_text(text, remove_stopwords = True):\n",
    "    '''Remove unwanted characters, stopwords, and format the text to create fewer nulls word embeddings'''\n",
    "    \n",
    "    # Convert words to lower case\n",
    "    text = text.lower()\n",
    "    \n",
    "    # Replace contractions with their longer forms \n",
    "    if True:\n",
    "        text = text.split()\n",
    "        new_text = []\n",
    "        for word in text:\n",
    "            if word in contractions:\n",
    "                new_text.append(contractions[word])\n",
    "            else:\n",
    "                new_text.append(word)\n",
    "        text = \" \".join(new_text)\n",
    "    \n",
    "    # Format words and remove unwanted characters\n",
    "    text = re.sub(r'https?:\\/\\/.*[\\r\\n]*', '', text, flags=re.MULTILINE)\n",
    "    text = re.sub(r'\\<a href', ' ', text)\n",
    "    text = re.sub(r'&amp;', '', text) \n",
    "    text = re.sub(r'[_\"\\-;%()|+&=*%.,!?:#$@\\[\\]/]', ' ', text)\n",
    "    text = re.sub(r'<br />', ' ', text)\n",
    "    text = re.sub(r'<br >', '', text)\n",
    "    text = re.sub(r'\\'', ' ', text)\n",
    "    \n",
    "    # Optionally, remove stop words\n",
    "    if remove_stopwords:\n",
    "        text = text.split()\n",
    "        stops = set(stopwords.words(\"english\"))\n",
    "        text = [w for w in text if not w in stops]\n",
    "        text = \" \".join(text)\n",
    "\n",
    "    return text"
   ]
  },
  {
   "cell_type": "code",
   "execution_count": 17,
   "id": "05cfd789",
   "metadata": {
    "pycharm": {
     "name": "#%%\n"
    }
   },
   "outputs": [
    {
     "name": "stdout",
     "output_type": "stream",
     "text": [
      "Summaries are complete.\n",
      "Texts are complete.\n"
     ]
    }
   ],
   "source": [
    "clean_summaries = []\n",
    "for summary in reviews.Summary:\n",
    "    if not isinstance(summary, str):\n",
    "        print(summary)\n",
    "        continue\n",
    "    clean_summaries.append(clean_text(summary, remove_stopwords=False))\n",
    "print(\"Summaries are complete.\")\n",
    "\n",
    "clean_texts = []\n",
    "for text in reviews.Text:\n",
    "    clean_texts.append(clean_text(text))\n",
    "print(\"Texts are complete.\")"
   ]
  },
  {
   "cell_type": "code",
   "execution_count": 18,
   "id": "87ca2c55",
   "metadata": {
    "pycharm": {
     "name": "#%%\n"
    }
   },
   "outputs": [
    {
     "name": "stdout",
     "output_type": "stream",
     "text": [
      "Clean Review # 16\n",
      "Summary:  lots of twizzlers  just what you expect \n",
      "Content:  daughter loves twizzlers shipment six pounds really hit spot exactly would expect six packages strawberry twizzlers\n",
      "\n",
      "Clean Review # 17\n",
      "Summary:  poor taste\n",
      "Content:  love eating good watching tv looking movies sweet like transfer zip lock baggie stay fresh take time eating\n",
      "\n",
      "Clean Review # 18\n",
      "Summary:  love it \n",
      "Content:  satisfied twizzler purchase shared others enjoyed definitely ordering\n",
      "\n",
      "Clean Review # 19\n",
      "Summary:  great sweet candy \n",
      "Content:  twizzlers strawberry childhood favorite candy made lancaster pennsylvania candies inc one oldest confectionery firms united states subsidiary hershey company company established 1845 young smylie also make apple licorice twists green color blue raspberry licorice twists like all<br ><br >i keep dry cool place recommended put fridge according guinness book records longest licorice twist ever made measured 1 200 feet 370 weighted 100 pounds 45 kg made candies inc record breaking twist became guinness world record july 19 1998 product kosher thank\n",
      "\n",
      "Clean Review # 20\n",
      "Summary:  home delivered twizlers\n",
      "Content:  candy delivered fast purchased reasonable price home bound unable get store perfect\n",
      "\n"
     ]
    }
   ],
   "source": [
    "# Inspect the cleaned summaries and texts to ensure they have been cleaned well\n",
    "for i in range(15,20):\n",
    "    print(\"Clean Review #\",i+1)\n",
    "    print(\"Summary: \",clean_summaries[i])\n",
    "    print(\"Content: \",clean_texts[i])\n",
    "    print()"
   ]
  },
  {
   "cell_type": "code",
   "execution_count": 19,
   "id": "8bc29f07",
   "metadata": {
    "pycharm": {
     "name": "#%%\n"
    }
   },
   "outputs": [],
   "source": [
    "def count_words(count_dict, text):\n",
    "    '''Count the number of occurrences of each word in a set of text'''\n",
    "    for sentence in text:\n",
    "        for word in sentence.split():\n",
    "            if word not in count_dict:\n",
    "                count_dict[word] = 1\n",
    "            else:\n",
    "                count_dict[word] += 1"
   ]
  },
  {
   "cell_type": "code",
   "execution_count": 20,
   "id": "beae712a",
   "metadata": {
    "pycharm": {
     "name": "#%%\n"
    }
   },
   "outputs": [
    {
     "name": "stdout",
     "output_type": "stream",
     "text": [
      "Size of Vocabulary: 132887\n"
     ]
    }
   ],
   "source": [
    "word_counts = {}\n",
    "\n",
    "count_words(word_counts, clean_summaries)\n",
    "count_words(word_counts, clean_texts)\n",
    "            \n",
    "print(\"Size of Vocabulary:\", len(word_counts))"
   ]
  },
  {
   "cell_type": "code",
   "execution_count": 21,
   "id": "f11e83a8",
   "metadata": {
    "pycharm": {
     "name": "#%%\n"
    }
   },
   "outputs": [
    {
     "name": "stdout",
     "output_type": "stream",
     "text": [
      "Word embeddings: 417195\n"
     ]
    }
   ],
   "source": [
    "embeddings_index = {}\n",
    "with open('\\\\Users\\\\SWong7923\\\\PycharmProjects\\\\pythonProject2\\\\archive\\\\numberbatch-en.txt', encoding='utf-8') as f:\n",
    "    for line in f:\n",
    "        values = line.split(' ')\n",
    "        word = values[0]\n",
    "        embedding = np.asarray(values[1:], dtype='float32')\n",
    "        embeddings_index[word] = embedding\n",
    "print('Word embeddings:', len(embeddings_index))"
   ]
  },
  {
   "cell_type": "code",
   "execution_count": 22,
   "id": "87f3cff2",
   "metadata": {
    "pycharm": {
     "name": "#%%\n"
    }
   },
   "outputs": [
    {
     "name": "stdout",
     "output_type": "stream",
     "text": [
      "Number of words missing from CN: 3870\n",
      "Percent of words that are missing from vocabulary: 2.91%\n"
     ]
    }
   ],
   "source": [
    "# Find the number of words that are missing from CN, and are used more than our threshold.\n",
    "missing_words = 0\n",
    "threshold = 20\n",
    "\n",
    "for word, count in word_counts.items():\n",
    "    if count > threshold:\n",
    "        if word not in embeddings_index:\n",
    "            missing_words += 1\n",
    "            \n",
    "missing_ratio = round(missing_words/len(word_counts),4)*100\n",
    "            \n",
    "print(\"Number of words missing from CN:\", missing_words)\n",
    "print(\"Percent of words that are missing from vocabulary: {}%\".format(missing_ratio))"
   ]
  },
  {
   "cell_type": "code",
   "execution_count": 23,
   "id": "96ef93bd",
   "metadata": {
    "pycharm": {
     "name": "#%%\n"
    }
   },
   "outputs": [
    {
     "name": "stdout",
     "output_type": "stream",
     "text": [
      "Total number of unique words: 132887\n",
      "Number of words we will use: 59595\n",
      "Percent of words we will use: 44.85%\n"
     ]
    }
   ],
   "source": [
    "# Limit the vocab that we will use to words that appear ≥ threshold or are in GloVe\n",
    "\n",
    "#dictionary to convert words to integers\n",
    "vocab_to_int = {} \n",
    "\n",
    "value = 0\n",
    "for word, count in word_counts.items():\n",
    "    if count >= threshold or word in embeddings_index:\n",
    "        vocab_to_int[word] = value\n",
    "        value += 1\n",
    "\n",
    "# Special tokens that will be added to our vocab\n",
    "codes = [\"<UNK>\",\"<PAD>\",\"<EOS>\",\"<GO>\"]   \n",
    "\n",
    "# Add codes to vocab\n",
    "for code in codes:\n",
    "    vocab_to_int[code] = len(vocab_to_int)\n",
    "\n",
    "# Dictionary to convert integers to words\n",
    "int_to_vocab = {}\n",
    "for word, value in vocab_to_int.items():\n",
    "    int_to_vocab[value] = word\n",
    "\n",
    "usage_ratio = round(len(vocab_to_int) / len(word_counts),4)*100\n",
    "\n",
    "print(\"Total number of unique words:\", len(word_counts))\n",
    "print(\"Number of words we will use:\", len(vocab_to_int))\n",
    "print(\"Percent of words we will use: {}%\".format(usage_ratio))"
   ]
  },
  {
   "cell_type": "code",
   "execution_count": 24,
   "id": "ad3a9c99",
   "metadata": {
    "pycharm": {
     "name": "#%%\n"
    }
   },
   "outputs": [
    {
     "name": "stdout",
     "output_type": "stream",
     "text": [
      "59595\n"
     ]
    }
   ],
   "source": [
    "# Need to use 300 for embedding dimensions to match CN's vectors.\n",
    "embedding_dim = 300\n",
    "nb_words = len(vocab_to_int)\n",
    "\n",
    "# Create matrix with default values of zero\n",
    "word_embedding_matrix = np.zeros((nb_words, embedding_dim), dtype=np.float32)\n",
    "for word, i in vocab_to_int.items():\n",
    "    if word in embeddings_index:\n",
    "        word_embedding_matrix[i] = embeddings_index[word]\n",
    "    else:\n",
    "        # If word not in CN, create a random embedding for it\n",
    "        new_embedding = np.array(np.random.uniform(-1.0, 1.0, embedding_dim))\n",
    "        embeddings_index[word] = new_embedding\n",
    "        word_embedding_matrix[i] = new_embedding\n",
    "\n",
    "# Check if value matches len(vocab_to_int)\n",
    "print(len(word_embedding_matrix))"
   ]
  },
  {
   "cell_type": "code",
   "execution_count": 25,
   "id": "1b352deb",
   "metadata": {
    "pycharm": {
     "name": "#%%\n"
    }
   },
   "outputs": [],
   "source": [
    "def convert_to_ints(text, word_count, unk_count):\n",
    "    '''Convert words in text to an integer(the index of words in vocabulary).\n",
    "       If word is not in vocab_to_int, use UNK's integer.\n",
    "       Total the number of words and UNKs.\n",
    "       Add EOS token to the end of texts'''\n",
    "    ints = []\n",
    "    for sentence in text:\n",
    "        sentence_ints = [vocab_to_int[\"<GO>\"]]\n",
    "        for word in sentence.split():\n",
    "            word_count += 1\n",
    "            if word in vocab_to_int:\n",
    "                sentence_ints.append(vocab_to_int[word])\n",
    "            else:\n",
    "                sentence_ints.append(vocab_to_int[\"<UNK>\"])\n",
    "                unk_count += 1\n",
    "       \n",
    "        sentence_ints.append(vocab_to_int[\"<EOS>\"])\n",
    "        ints.append(sentence_ints)\n",
    "    return ints, word_count, unk_count"
   ]
  },
  {
   "cell_type": "code",
   "execution_count": 26,
   "id": "87b0e5fd",
   "metadata": {
    "pycharm": {
     "name": "#%%\n"
    }
   },
   "outputs": [
    {
     "name": "stdout",
     "output_type": "stream",
     "text": [
      "Total number of words in headlines: 25680389\n",
      "Total number of UNKs in headlines: 192248\n",
      "Percent of words that are UNK: 0.75%\n"
     ]
    }
   ],
   "source": [
    "# Apply convert_to_ints to clean_summaries and clean_texts\n",
    "word_count = 0\n",
    "unk_count = 0\n",
    "\n",
    "int_summaries, word_count, unk_count = convert_to_ints(clean_summaries, word_count, unk_count)\n",
    "int_texts, word_count, unk_count = convert_to_ints(clean_texts, word_count, unk_count)\n",
    "\n",
    "unk_percent = round(unk_count/word_count,4)*100\n",
    "\n",
    "print(\"Total number of words in headlines:\", word_count)\n",
    "print(\"Total number of UNKs in headlines:\", unk_count)\n",
    "print(\"Percent of words that are UNK: {}%\".format(unk_percent))"
   ]
  },
  {
   "cell_type": "code",
   "execution_count": 27,
   "id": "23cbbca6",
   "metadata": {
    "pycharm": {
     "name": "#%%\n"
    }
   },
   "outputs": [],
   "source": [
    "def create_lengths(text):\n",
    "    '''Create a data frame of the sentence lengths from a text'''\n",
    "    lengths = []\n",
    "    for sentence in text:\n",
    "        lengths.append(len(sentence))\n",
    "    return pd.DataFrame(lengths, columns=['counts'])"
   ]
  },
  {
   "cell_type": "code",
   "execution_count": 28,
   "id": "037ac585",
   "metadata": {
    "pycharm": {
     "name": "#%%\n"
    }
   },
   "outputs": [
    {
     "name": "stdout",
     "output_type": "stream",
     "text": [
      "Summaries:\n",
      "              counts\n",
      "count  568427.000000\n",
      "mean        6.181613\n",
      "std         2.657912\n",
      "min         2.000000\n",
      "25%         4.000000\n",
      "50%         6.000000\n",
      "75%         7.000000\n",
      "max        50.000000\n",
      "\n",
      "Texts:\n",
      "              counts\n",
      "count  568427.000000\n",
      "mean       42.996376\n",
      "std        42.520534\n",
      "min         2.000000\n",
      "25%        19.000000\n",
      "50%        30.000000\n",
      "75%        51.000000\n",
      "max      2086.000000\n"
     ]
    }
   ],
   "source": [
    "lengths_summaries = create_lengths(int_summaries)\n",
    "lengths_texts = create_lengths(int_texts)\n",
    "\n",
    "print(\"Summaries:\")\n",
    "print(lengths_summaries.describe())\n",
    "print()\n",
    "print(\"Texts:\")\n",
    "print(lengths_texts.describe())"
   ]
  },
  {
   "cell_type": "code",
   "execution_count": 29,
   "id": "0d889f84",
   "metadata": {
    "pycharm": {
     "name": "#%%\n"
    }
   },
   "outputs": [
    {
     "name": "stdout",
     "output_type": "stream",
     "text": [
      "85.0\n",
      "116.0\n",
      "208.0\n"
     ]
    }
   ],
   "source": [
    "# Inspect the length of texts\n",
    "print(np.percentile(lengths_texts.counts, 90))\n",
    "print(np.percentile(lengths_texts.counts, 95))\n",
    "print(np.percentile(lengths_texts.counts, 99))"
   ]
  },
  {
   "cell_type": "code",
   "execution_count": 30,
   "id": "3ab2bb32",
   "metadata": {
    "pycharm": {
     "name": "#%%\n"
    }
   },
   "outputs": [
    {
     "name": "stdout",
     "output_type": "stream",
     "text": [
      "10.0\n",
      "11.0\n",
      "15.0\n"
     ]
    }
   ],
   "source": [
    "# Inspect the length of summaries\n",
    "print(np.percentile(lengths_summaries.counts, 90))\n",
    "print(np.percentile(lengths_summaries.counts, 95))\n",
    "print(np.percentile(lengths_summaries.counts, 99))"
   ]
  },
  {
   "cell_type": "code",
   "execution_count": 31,
   "id": "15d9d041",
   "metadata": {
    "pycharm": {
     "name": "#%%\n"
    }
   },
   "outputs": [],
   "source": [
    "def unk_counter(sentence):\n",
    "    '''Counts the number of time UNK appears in a sentence.'''\n",
    "    unk_count = 0\n",
    "    for word in sentence:\n",
    "        if word == vocab_to_int[\"<UNK>\"]:\n",
    "            unk_count += 1\n",
    "    return unk_count"
   ]
  },
  {
   "cell_type": "code",
   "execution_count": 32,
   "id": "a95b8643",
   "metadata": {
    "pycharm": {
     "name": "#%%\n"
    }
   },
   "outputs": [
    {
     "name": "stdout",
     "output_type": "stream",
     "text": [
      "472193\n",
      "472193\n"
     ]
    }
   ],
   "source": [
    "# takes a long time  , this is normal\n",
    "\n",
    "# Sort the summaries and texts by the length of the texts, shortest to longest\n",
    "# Limit the length of summaries and texts based on the min and max ranges.\n",
    "# Remove reviews that include too many UNKs\n",
    "\n",
    "sorted_summaries = []\n",
    "sorted_texts = []\n",
    "max_text_length = 84\n",
    "max_summary_length = 13\n",
    "min_length = 2\n",
    "unk_text_limit = 1\n",
    "unk_summary_limit = 0\n",
    "\n",
    "for length in range(min(lengths_texts.counts), max_text_length): \n",
    "    for count, words in enumerate(int_summaries):\n",
    "        if (len(int_summaries[count]) >= min_length and\n",
    "            len(int_summaries[count]) <= max_summary_length and\n",
    "            len(int_texts[count]) >= min_length and\n",
    "            unk_counter(int_summaries[count]) <= unk_summary_limit and\n",
    "            unk_counter(int_texts[count]) <= unk_text_limit and\n",
    "            length == len(int_texts[count])\n",
    "           ):\n",
    "            sorted_summaries.append(int_summaries[count])\n",
    "            sorted_texts.append(int_texts[count])\n",
    "        \n",
    "# Compare lengths to ensure they match\n",
    "print(len(sorted_summaries))\n",
    "print(len(sorted_texts))"
   ]
  },
  {
   "cell_type": "code",
   "execution_count": 33,
   "id": "a4ef736a",
   "metadata": {},
   "outputs": [],
   "source": [
    "#sorted_texts[-100:-1]"
   ]
  },
  {
   "cell_type": "code",
   "execution_count": 34,
   "id": "24ab6377",
   "metadata": {
    "pycharm": {
     "name": "#%%\n"
    }
   },
   "outputs": [],
   "source": [
    "from torch.utils.data import Dataset, DataLoader\n",
    "from torch.autograd import Variable\n",
    "import torch\n",
    "import torch.nn.utils.rnn as rnn_utils\n",
    "import torch.nn.functional as F\n",
    "import torchvision\n",
    "from torchvision import datasets, models, transforms\n",
    "from torchvision.utils import make_grid\n",
    "import torch.nn as nn\n",
    "import matplotlib.pyplot as plt\n",
    "import random "
   ]
  },
  {
   "cell_type": "code",
   "execution_count": 35,
   "id": "f43e270e",
   "metadata": {},
   "outputs": [
    {
     "name": "stdout",
     "output_type": "stream",
     "text": [
      "The shortest text length: 24\n",
      "The longest text length: 83\n"
     ]
    }
   ],
   "source": [
    "# Subset the data for training\n",
    "start = 200000\n",
    "end = start + 300000\n",
    "sorted_summaries_short = sorted_summaries[start:end]\n",
    "sorted_texts_short = sorted_texts[start:end]\n",
    "print(\"The shortest text length:\", len(sorted_texts_short[0]))\n",
    "print(\"The longest text length:\",len(sorted_texts_short[-1]))"
   ]
  },
  {
   "cell_type": "code",
   "execution_count": 36,
   "id": "e6ac3040",
   "metadata": {},
   "outputs": [
    {
     "data": {
      "text/plain": [
       "'<GO> usually buy go go brown rice convenience time cook use rice noticeable change pleasing smell taste hybrid rice love high quality rice <EOS>'"
      ]
     },
     "execution_count": 36,
     "metadata": {},
     "output_type": "execute_result"
    }
   ],
   "source": [
    "\" \".join([int_to_vocab[i] for i in sorted_texts_short[2]])"
   ]
  },
  {
   "cell_type": "code",
   "execution_count": 37,
   "id": "85cefd67",
   "metadata": {},
   "outputs": [],
   "source": [
    "train_size = int(len(sorted_texts_short) * 0.9)\n",
    "val_size = len(sorted_texts_short) - train_size\n",
    "zipped = list(zip(sorted_texts_short, sorted_summaries_short))\n",
    "train_dataset, val_dataset = torch.utils.data.random_split(zipped, [train_size,val_size])\n",
    "text_train, summ_train = zip(*train_dataset)\n",
    "text_val, summ_val = zip(*val_dataset)\n"
   ]
  },
  {
   "cell_type": "code",
   "execution_count": 38,
   "id": "a57cac12",
   "metadata": {},
   "outputs": [
    {
     "data": {
      "text/plain": [
       "'<GO> it is not too good to be true <EOS>'"
      ]
     },
     "execution_count": 38,
     "metadata": {},
     "output_type": "execute_result"
    }
   ],
   "source": [
    "\" \".join([int_to_vocab[i] for i in summ_train[3]])"
   ]
  },
  {
   "cell_type": "code",
   "execution_count": 39,
   "id": "28580eff",
   "metadata": {},
   "outputs": [
    {
     "data": {
      "text/plain": [
       "'<GO> greatest low fat organic snack ever tasted taste like pumpernickel bread holidays love haves 1 5 grams fat 14 pretzels hearty snack say enough great things snack <EOS>'"
      ]
     },
     "execution_count": 39,
     "metadata": {},
     "output_type": "execute_result"
    }
   ],
   "source": [
    "\" \".join([int_to_vocab[i] for i in text_train[3]])"
   ]
  },
  {
   "cell_type": "code",
   "execution_count": 40,
   "id": "972b7b59",
   "metadata": {},
   "outputs": [
    {
     "data": {
      "text/plain": [
       "[44, 76, 46, 29, 24, 79, 24, 43, 75, 41]"
      ]
     },
     "execution_count": 40,
     "metadata": {},
     "output_type": "execute_result"
    }
   ],
   "source": [
    "[len(x)for x in text_train[:10]]"
   ]
  },
  {
   "cell_type": "code",
   "execution_count": 41,
   "id": "121bd237",
   "metadata": {},
   "outputs": [],
   "source": [
    "def len_argsort(seq):\n",
    "    return sorted(range(len(seq)), key=lambda x: len(seq[x]))"
   ]
  },
  {
   "cell_type": "code",
   "execution_count": 42,
   "id": "6c38e773",
   "metadata": {},
   "outputs": [],
   "source": [
    "sorted_index = len_argsort(text_train)\n",
    "text_train = [text_train[i] for i in sorted_index]\n",
    "summ_train = [summ_train[i] for i in sorted_index]"
   ]
  },
  {
   "cell_type": "code",
   "execution_count": 43,
   "id": "185efe81",
   "metadata": {},
   "outputs": [
    {
     "data": {
      "text/plain": [
       "[83]"
      ]
     },
     "execution_count": 43,
     "metadata": {},
     "output_type": "execute_result"
    }
   ],
   "source": [
    "[len(x)for x in text_train[-2:-1]] # 24 - 83"
   ]
  },
  {
   "cell_type": "code",
   "execution_count": 44,
   "id": "9cf30393",
   "metadata": {},
   "outputs": [
    {
     "name": "stdout",
     "output_type": "stream",
     "text": [
      "<GO> bought elderly cat health problems needs gain weight coincidentally new kitten well 4 cats love food none like wet food forever food <EOS>\n",
      "<GO> approved of by all my felines <EOS>\n"
     ]
    }
   ],
   "source": [
    "k = 2\n",
    "print(\" \".join([int_to_vocab[i] for i in text_train[k]]))\n",
    "print(\" \".join([int_to_vocab[i] for i in summ_train[k]]))"
   ]
  },
  {
   "cell_type": "code",
   "execution_count": 45,
   "id": "37faf98f",
   "metadata": {},
   "outputs": [],
   "source": [
    "# 按索引划分batch，返回的每个batch中存的是index\n",
    "def get_minibatches(n, minibatch_size, shuffle=True):\n",
    "    idx_list = np.arange(0, n, minibatch_size)\n",
    "    if shuffle:\n",
    "        np.random.shuffle(idx_list)\n",
    "    minibatches = []\n",
    "    for idx in idx_list:\n",
    "        minibatches.append(np.arange(idx, min(idx+minibatch_size, n)))\n",
    "    return minibatches      # 这个会返回多批连着的bath_size个索引  \n",
    "#get_minibatches(len(train_en), 32)\n",
    "\n",
    "# 这个函数是在做数据预处理， 由于每个句子都不是一样长， 所以通过这个函数就可以把句子进行补齐， 不够长的在句子后面添加0\n",
    "def prepare_data(seqs):\n",
    "    lengths = [len(seq) for seq in seqs]    # 得到每个句子的长度\n",
    "    n_samples = len(seqs)       # 得到一共有多少个句子\n",
    "    max_len = np.max(lengths)              # 找出最大的句子长度\n",
    "    \n",
    "    x = np.zeros((n_samples, max_len)).astype('int32')    # 按照最大句子长度生成全0矩阵\n",
    "    x_lengths = np.array(lengths).astype('int32')\n",
    "    for idx, seq in enumerate(seqs):        # 把有句子的位置填充进去\n",
    "        x[idx, :lengths[idx]] = seq\n",
    "    return x, x_lengths      # x_mask\n",
    "\n",
    "def gen_examples(en_sentences, cn_sentences, batch_size):\n",
    "    minibatches = get_minibatches(len(en_sentences), batch_size)   # 得到batch个索引\n",
    "    all_ex = []\n",
    "    for minibatch in minibatches:   # 每批数据的索引\n",
    "        mb_en_sentences = [en_sentences[t] for t in minibatch]   # 取数据\n",
    "        mb_cn_sentences = [cn_sentences[t] for t in minibatch]  # 取数据\n",
    "        mb_x, mb_x_len = prepare_data(mb_en_sentences) # 填充成一样的长度， 但是要记录一下句子的真实长度， 这个在后面输入网络的时候得用\n",
    "        mb_y, mb_y_len = prepare_data(mb_cn_sentences)\n",
    "        all_ex.append((mb_x, mb_x_len, mb_y, mb_y_len))\n",
    "    return all_ex\n",
    "\n",
    "batch_size = 64\n",
    "train_data = gen_examples(text_train, summ_train, batch_size)   # 产生训练集\n",
    "random.shuffle(train_data)\n",
    "dev_data = gen_examples(text_val, summ_val, batch_size)   # 产生验证集\n"
   ]
  },
  {
   "cell_type": "code",
   "execution_count": 46,
   "id": "0f9b44fc",
   "metadata": {},
   "outputs": [
    {
     "name": "stdout",
     "output_type": "stream",
     "text": [
      "(64, 46) (64,) (64, 11) (64,)\n"
     ]
    }
   ],
   "source": [
    "print(train_data[1][0].shape, train_data[1][1].shape, train_data[1][2].shape, train_data[1][3].shape)  "
   ]
  },
  {
   "cell_type": "code",
   "execution_count": 47,
   "id": "b79c5500",
   "metadata": {},
   "outputs": [],
   "source": [
    "class Encoder(nn.Module):\n",
    "    def __init__(self, vocab_size, embed_size, enc_hidden_size, dec_hidden_size, dropout=0.2):\n",
    "        super().__init__()\n",
    "        self.embed = nn.Embedding(vocab_size, embed_size)\n",
    "        self.rnn = nn.GRU(embed_size, enc_hidden_size, batch_first=True, bidirectional=True)\n",
    "        self.dropout = nn.Dropout(dropout)\n",
    "        self.fc = nn.Linear(enc_hidden_size * 2, dec_hidden_size)\n",
    "\n",
    "    def forward(self, x, lengths):\n",
    "        sorted_len, sorted_idx = lengths.sort(0, descending=True)\n",
    "        x_sorted = x[sorted_idx.long()]\n",
    "        embedded = self.dropout(self.embed(x_sorted))\n",
    "        \n",
    "        packed_embedded = nn.utils.rnn.pack_padded_sequence(embedded, sorted_len.long().cpu().data.numpy(), batch_first=True)\n",
    "        packed_out, hid = self.rnn(packed_embedded)\n",
    "        out, _ = nn.utils.rnn.pad_packed_sequence(packed_out, batch_first=True)\n",
    "        _, original_idx = sorted_idx.sort(0, descending=False)\n",
    "        out = out[original_idx.long()].contiguous() # [batch_size, seq_len, num_directions=2 * enc_hidden_size]\n",
    "        hid = hid[:, original_idx.long()].contiguous() # [num_layers=1 * num_directions=2, batch_size, enc_hidden_size]\n",
    "        \n",
    "        # hid[m] [batch_size, enc_hidden_size]\n",
    "        hid = torch.cat([hid[-2], hid[-1]], dim=1) # [batch_size, enc_hidden_size*2]\n",
    "        hid = torch.tanh(self.fc(hid)).unsqueeze(0) # [1,batch_size,dec_hidden_size]\n",
    "\n",
    "        return out, hid"
   ]
  },
  {
   "cell_type": "code",
   "execution_count": 48,
   "id": "30bdc0ac",
   "metadata": {},
   "outputs": [],
   "source": [
    "class Attention(nn.Module):\n",
    "    def __init__(self, enc_hidden_size, dec_hidden_size):\n",
    "        super().__init__()\n",
    "        self.enc_hidden_size = enc_hidden_size\n",
    "        self.dec_hidden_size = dec_hidden_size\n",
    "        self.linear_in = nn.Linear(enc_hidden_size*2, dec_hidden_size, bias=False)\n",
    "        self.linear_out = nn.Linear(enc_hidden_size*2 + dec_hidden_size, dec_hidden_size)\n",
    "        \n",
    "    def forward(self, output, context, mask):\n",
    "        # output: [batch_size, output_len, dec_hidden_size]\n",
    "        # context: [batch_size, context_len, 2*enc_hidden_size]\n",
    "    \n",
    "        batch_size = output.size(0)\n",
    "        output_len = output.size(1)\n",
    "        input_len = context.size(1)\n",
    "        \n",
    "        context_in = self.linear_in(context.view(batch_size*input_len, -1)).view(                \n",
    "            batch_size, input_len, -1) # batch_size, context_len, dec_hidden_size\n",
    "        \n",
    "        # context_in.transpose(1,2): batch_size, dec_hidden_size, context_len \n",
    "        # output: batch_size, output_len, dec_hidden_size\n",
    "        attn = torch.bmm(output, context_in.transpose(1,2))  # batch_size, output_len, context_len\n",
    "\n",
    "        # mask必须是一个 ByteTensor 而且shape必须和 attn 一样 并且元素只能是 0或者1\n",
    "        # tensor.data.masked_fill(mask,value):将 mask中为1的 元素所在的索引，在tensor中相同的的索引处替换为 value\n",
    "        # 将不是单词的位置设成很小的数,使softmax不受非单词的元素影响\n",
    "        attn.data.masked_fill(mask, -1e6)\n",
    "\n",
    "        attn = F.softmax(attn, dim=2)  # batch_size, output_len, context_len\n",
    "\n",
    "        context = torch.bmm(attn, context) \n",
    "        # batch_size, output_len, 2*enc_hidden_size\n",
    "        \n",
    "        output = torch.cat((context, output), dim=2) # batch_size, output_len, enc_hidden_size*2 + dec_hidden_size\n",
    "\n",
    "        output = output.view(batch_size*output_len, -1)\n",
    "        output = torch.tanh(self.linear_out(output))\n",
    "        output = output.view(batch_size, output_len, -1) # batch_size, output_len, dec_hidden_size\n",
    "        return output, attn"
   ]
  },
  {
   "cell_type": "code",
   "execution_count": 49,
   "id": "f6b9cb4a",
   "metadata": {},
   "outputs": [],
   "source": [
    "class Decoder(nn.Module):\n",
    "    def __init__(self, vocab_size, embed_size, enc_hidden_size, dec_hidden_size, dropout=0.2):\n",
    "        super(Decoder, self).__init__()\n",
    "        self.embed = nn.Embedding(vocab_size, embed_size)\n",
    "        self.attention = Attention(enc_hidden_size, dec_hidden_size)\n",
    "        self.rnn = nn.GRU(embed_size, dec_hidden_size, batch_first=True)\n",
    "        self.out = nn.Linear(dec_hidden_size, vocab_size)\n",
    "        self.dropout = nn.Dropout(dropout)\n",
    "\n",
    "    def create_mask(self, y_len, x_len):\n",
    "        max_y_len = y_len.max()\n",
    "        max_x_len = x_len.max()\n",
    "        x_mask = torch.arange(max_x_len, device=x_len.device)[None, :] < x_len[:, None] # [batch_size,max_x_len]\n",
    "        y_mask = torch.arange(max_y_len, device=x_len.device)[None, :] < y_len[:, None] # [batch_size,max_y_len]\n",
    "        # 以1个batch的1句话为例(英文共n个字),取其中一个中文字(矩阵的某行),英文前n个字(列)值为0,为0代表有效\n",
    "        # ~代表bool变量取反\n",
    "        mask = (~(y_mask[:, :, None] * x_mask[:, None, :])).byte() # [batch_size,max_y_len,max_x_len]\n",
    "        return mask\n",
    "    \n",
    "    def forward(self, ctx, ctx_lengths, y, y_lengths, hid):\n",
    "        sorted_len, sorted_idx = y_lengths.sort(0, descending=True)\n",
    "        y_sorted = y[sorted_idx.long()] # [batch_size,y_len,vocab_size]\n",
    "        hid = hid[:, sorted_idx.long()]\n",
    "        \n",
    "        y_sorted = self.dropout(self.embed(y_sorted)) # batch_size, 中文seq_length, embed_size\n",
    "\n",
    "        packed_seq = nn.utils.rnn.pack_padded_sequence(y_sorted, sorted_len.long().cpu().data.numpy(), batch_first=True)\n",
    "        out, hid = self.rnn(packed_seq, hid)\n",
    "        unpacked, _ = nn.utils.rnn.pad_packed_sequence(out, batch_first=True) # [batch_size,中文seq_len,dec_hidden_size]\n",
    "        \n",
    "        _, original_idx = sorted_idx.sort(0, descending=False)\n",
    "        \n",
    "        output_seq = unpacked[original_idx.long()].contiguous() # [batch_size,中文seq_len,dec_hidden_size]\n",
    "        \n",
    "        hid = hid[:, original_idx.long()].contiguous() # [1,batch_size,dec_hidden_size]\n",
    "\n",
    "        mask = self.create_mask(y_lengths, ctx_lengths) # [batch_size,中文seq_len,英文seq_len]\n",
    "\n",
    "        # output [batch_size, 中文seq_len, dec_hidden_size]\n",
    "        # attn [batch_size,中文seq_len,英文seq_len]\n",
    "        output, attn = self.attention(output_seq, ctx, mask)\n",
    "        \n",
    "        output = F.log_softmax(self.out(output), dim=-1) # batch_size, output_len, vocab_size\n",
    "        \n",
    "        return output, hid, attn"
   ]
  },
  {
   "cell_type": "code",
   "execution_count": 50,
   "id": "7f6686ec",
   "metadata": {},
   "outputs": [],
   "source": [
    "class Seq2Seq(nn.Module):\n",
    "    def __init__(self, encoder, decoder):\n",
    "        super(Seq2Seq, self).__init__()\n",
    "        self.encoder = encoder\n",
    "        self.decoder = decoder\n",
    "        \n",
    "    def forward(self, x, x_lengths, y, y_lengths):\n",
    "        encoder_out, hid = self.encoder(x, x_lengths)\n",
    "        output, hid, attn = self.decoder(ctx=encoder_out, \n",
    "                    ctx_lengths=x_lengths,\n",
    "                    y=y,\n",
    "                    y_lengths=y_lengths,\n",
    "                    hid=hid)\n",
    "        return output\n",
    "    \n",
    "    def translate(self, x, x_lengths, y, max_length=100):\n",
    "        encoder_out, hid = self.encoder(x, x_lengths)\n",
    "        preds = []\n",
    "        batch_size = x.shape[0]\n",
    "        attns = []\n",
    "        for i in range(max_length):\n",
    "            output, hid, attn = self.decoder(ctx=encoder_out, \n",
    "                    ctx_lengths=x_lengths,\n",
    "                    y=y,\n",
    "                    y_lengths=torch.ones(batch_size).long().to(y.device),\n",
    "                    hid=hid)\n",
    "            y = output.max(2)[1].view(batch_size, 1)\n",
    "            preds.append(y)\n",
    "            attns.append(attn)\n",
    "        return torch.cat(preds, dim=1)"
   ]
  },
  {
   "cell_type": "code",
   "execution_count": 51,
   "id": "e5c1000e",
   "metadata": {},
   "outputs": [],
   "source": [
    "# masked cross entropy loss\n",
    "class LanguageModelCriterion(nn.Module):\n",
    "    def __init__(self):\n",
    "        super(LanguageModelCriterion, self).__init__()\n",
    "    \n",
    "    def forward(self, input, target, mask):\n",
    "        # input: [batch_size, seq_len, vocab_size]    每个单词的可能性\n",
    "        input = input.contiguous().view(-1, input.size(2))   # [batch_size*seq_len-1, vocab_size] 将input的batch_size和seq_len合并，再计算loss\n",
    "        target = target.contiguous().view(-1, 1)    #  [batch_size*seq_len-1, 1] # target里dim=1存的是正确summary 的index\n",
    "        \n",
    "        mask = mask.contiguous().view(-1, 1)   # [batch_size*seq_len-1, 1]\n",
    "        output = -input.gather(1, target) * mask # 在每个vocab_size维度取正确单词的索引， 但是里面有很多是填充进去的， 所以mask去掉这些填充的， \n",
    "        output = torch.sum(output) / torch.sum(mask)\n",
    "        \n",
    "        return output  # [batch_size*seq_len-1, 1]"
   ]
  },
  {
   "cell_type": "code",
   "execution_count": 54,
   "id": "cdef7494",
   "metadata": {},
   "outputs": [],
   "source": [
    "device = torch.device('cuda' if torch.cuda.is_available() else 'cpu')\n",
    "dropout = 0.2\n",
    "hidden_size = 100\n",
    "embed_size = 100\n",
    "encoder = Encoder(vocab_size=len(word_embedding_matrix), embed_size=embed_size, enc_hidden_size=hidden_size, dec_hidden_size=hidden_size,)\n",
    "decoder = Decoder(vocab_size=len(word_embedding_matrix), embed_size=embed_size, enc_hidden_size=hidden_size, dec_hidden_size=hidden_size,)\n",
    "\n",
    "model = Seq2Seq(encoder, decoder)\n",
    "model = model.to(device)\n",
    "loss_fn = LanguageModelCriterion().to(device)\n",
    "optimizer = torch.optim.Adam(model.parameters())"
   ]
  },
  {
   "cell_type": "code",
   "execution_count": 57,
   "id": "d774435e",
   "metadata": {},
   "outputs": [
    {
     "name": "stdout",
     "output_type": "stream",
     "text": [
      "[ 1/50] train_loss: 4.13072 valid_loss: 3.97102\n",
      "Validation loss decreased (inf --> 3.971024).  Saving model ...\n",
      "[ 2/50] train_loss: 3.81447 valid_loss: 3.78429\n",
      "Validation loss decreased (3.971024 --> 3.784292).  Saving model ...\n",
      "[ 3/50] train_loss: 3.61617 valid_loss: 3.66755\n",
      "Validation loss decreased (3.784292 --> 3.667548).  Saving model ...\n",
      "[ 4/50] train_loss: 3.47153 valid_loss: 3.58305\n",
      "Validation loss decreased (3.667548 --> 3.583047).  Saving model ...\n",
      "[ 5/50] train_loss: 3.35908 valid_loss: 3.52305\n",
      "Validation loss decreased (3.583047 --> 3.523053).  Saving model ...\n",
      "[ 6/50] train_loss: 3.26630 valid_loss: 3.47380\n",
      "Validation loss decreased (3.523053 --> 3.473801).  Saving model ...\n",
      "[ 7/50] train_loss: 3.18794 valid_loss: 3.43626\n",
      "Validation loss decreased (3.473801 --> 3.436259).  Saving model ...\n",
      "[ 8/50] train_loss: 3.12061 valid_loss: 3.40811\n",
      "Validation loss decreased (3.436259 --> 3.408108).  Saving model ...\n",
      "[ 9/50] train_loss: 3.06018 valid_loss: 3.37973\n",
      "Validation loss decreased (3.408108 --> 3.379729).  Saving model ...\n",
      "[10/50] train_loss: 3.00622 valid_loss: 3.36142\n",
      "Validation loss decreased (3.379729 --> 3.361416).  Saving model ...\n",
      "[11/50] train_loss: 2.95691 valid_loss: 3.34265\n",
      "Validation loss decreased (3.361416 --> 3.342647).  Saving model ...\n",
      "[12/50] train_loss: 2.91178 valid_loss: 3.32825\n",
      "Validation loss decreased (3.342647 --> 3.328250).  Saving model ...\n",
      "[13/50] train_loss: 2.87075 valid_loss: 3.31066\n",
      "Validation loss decreased (3.328250 --> 3.310656).  Saving model ...\n",
      "[14/50] train_loss: 2.83217 valid_loss: 3.30066\n",
      "Validation loss decreased (3.310656 --> 3.300659).  Saving model ...\n",
      "[15/50] train_loss: 2.79772 valid_loss: 3.28780\n",
      "Validation loss decreased (3.300659 --> 3.287796).  Saving model ...\n",
      "[16/50] train_loss: 2.76392 valid_loss: 3.28162\n",
      "Validation loss decreased (3.287796 --> 3.281622).  Saving model ...\n",
      "[17/50] train_loss: 2.73313 valid_loss: 3.26959\n",
      "Validation loss decreased (3.281622 --> 3.269589).  Saving model ...\n",
      "[18/50] train_loss: 2.70284 valid_loss: 3.26619\n",
      "Validation loss decreased (3.269589 --> 3.266193).  Saving model ...\n",
      "[19/50] train_loss: 2.67517 valid_loss: 3.25696\n",
      "Validation loss decreased (3.266193 --> 3.256957).  Saving model ...\n",
      "[20/50] train_loss: 2.64848 valid_loss: 3.25496\n",
      "Validation loss decreased (3.256957 --> 3.254965).  Saving model ...\n",
      "[21/50] train_loss: 2.62370 valid_loss: 3.24914\n",
      "Validation loss decreased (3.254965 --> 3.249145).  Saving model ...\n",
      "[22/50] train_loss: 2.59938 valid_loss: 3.24344\n",
      "Validation loss decreased (3.249145 --> 3.243440).  Saving model ...\n",
      "[23/50] train_loss: 2.57603 valid_loss: 3.24403\n",
      "EarlyStopping counter: 1 out of 5\n",
      "[24/50] train_loss: 2.57640 valid_loss: 3.24213\n",
      "Validation loss decreased (3.243440 --> 3.242130).  Saving model ...\n",
      "[25/50] train_loss: 2.55394 valid_loss: 3.24149\n",
      "Validation loss decreased (3.242130 --> 3.241488).  Saving model ...\n",
      "[26/50] train_loss: 2.53369 valid_loss: 3.23951\n",
      "Validation loss decreased (3.241488 --> 3.239514).  Saving model ...\n",
      "[27/50] train_loss: 2.51335 valid_loss: 3.23448\n",
      "Validation loss decreased (3.239514 --> 3.234477).  Saving model ...\n",
      "[28/50] train_loss: 2.49301 valid_loss: 3.23287\n",
      "Validation loss decreased (3.234477 --> 3.232865).  Saving model ...\n",
      "[29/50] train_loss: 2.47552 valid_loss: 3.23200\n",
      "Validation loss decreased (3.232865 --> 3.231998).  Saving model ...\n",
      "[30/50] train_loss: 2.45839 valid_loss: 3.23239\n",
      "EarlyStopping counter: 1 out of 5\n",
      "[31/50] train_loss: 2.45804 valid_loss: 3.23376\n",
      "EarlyStopping counter: 2 out of 5\n",
      "[32/50] train_loss: 2.45803 valid_loss: 3.23360\n",
      "EarlyStopping counter: 3 out of 5\n",
      "[33/50] train_loss: 2.45855 valid_loss: 3.23416\n",
      "EarlyStopping counter: 4 out of 5\n",
      "[34/50] train_loss: 2.45693 valid_loss: 3.23331\n",
      "EarlyStopping counter: 5 out of 5\n",
      "Early stopping\n"
     ]
    }
   ],
   "source": [
    "# 定义训练和验证函数\n",
    "train_losses = []\n",
    "val_losses = []\n",
    "#Please see the link below to learn about early stopping\n",
    "#https://towardsdatascience.com/a-practical-introduction-to-early-stopping-in-machine-learning-550ac88bc8fd \n",
    "min_val_loss = 100\n",
    "early_stop = False\n",
    "def evaluate(model, data):\n",
    "    model.eval()\n",
    "    total_num_words = total_loss = 0.\n",
    "    with torch.no_grad():\n",
    "        for it, (mb_x, mb_x_len, mb_y, mb_y_len) in enumerate(data):\n",
    "            mb_x = torch.from_numpy(mb_x).to(device).long()    # 这个是一个batch的英文句子 大小是[batch_size, seq_len]\n",
    "            mb_x_len = torch.from_numpy(mb_x_len).to(device).long()    # 每个句子的长度\n",
    "            mb_input = torch.from_numpy(mb_y[:, :-1]).to(device).long()  # decoder的输入，训练的时候是整个summary（带<GO>）\n",
    "            mb_output = torch.from_numpy(mb_y[:, 1:]).to(device).long()   # 解码器那边的输出  [batch_size, seq_len-1]去掉<GO>\n",
    "            mb_y_len = torch.from_numpy(mb_y_len-1).to(device).long()  # 这个减去1， 去掉初始符号 [batch_size, seq_len-1]\n",
    "            mb_y_len[mb_y_len<=0] =  1   # 以防出错，防止trainset里面的summary长度被记为0（实际上不可能）\n",
    "            \n",
    "            mb_pred = model(mb_x, mb_x_len, mb_input, mb_y_len)\n",
    "            \n",
    "            mb_out_mask = torch.arange(mb_y_len.max().item(), device=device)[None, :] < mb_y_len[:, None]  \n",
    "            # [batch_size,最长句子的长度], 上面是bool类型， 下面是float类型， 只计算每个句子的有效部分， 填充的那部分去掉\n",
    "            mb_out_mask = mb_out_mask.float()  # [batch_size, seq_len-1]  因为mb_y_len.max()就是seq_len-1\n",
    "            \n",
    "            loss = loss_fn(mb_pred, mb_output, mb_out_mask)\n",
    "            \n",
    "            num_words = torch.sum(mb_y_len).item()\n",
    "            total_loss += loss.item() * num_words\n",
    "            total_num_words += num_words\n",
    "            \n",
    "    #print('Validation loss', total_loss / total_num_words)\n",
    "    val_loss = total_loss / total_num_words;\n",
    "    val_losses.append(val_loss)\n",
    "    return val_loss\n",
    "\n",
    "def train(model, data, num_epochs, patience):\n",
    "    early_stopping = EarlyStopping(patience=patience, verbose=True)\n",
    "    for epoch in range(1, num_epochs+1):\n",
    "        model.train()\n",
    "        total_num_words = total_loss = 0.\n",
    "        for it, (mb_x, mb_x_len, mb_y, mb_y_len) in enumerate(data):\n",
    "            mb_x = torch.from_numpy(mb_x).to(device).long()\n",
    "            mb_x_len = torch.from_numpy(mb_x_len).to(device).long()\n",
    "            mb_input = torch.from_numpy(mb_y[:, :-1]).to(device).long()\n",
    "            mb_output = torch.from_numpy(mb_y[:, 1:]).to(device).long()\n",
    "            mb_y_len = torch.from_numpy(mb_y_len-1).to(device).long()\n",
    "            mb_y_len[mb_y_len<=0] = 1\n",
    "            \n",
    "            mb_pred = model(mb_x, mb_x_len, mb_input, mb_y_len)\n",
    "            \n",
    "            mb_out_mask = torch.arange(mb_y_len.max().item(), device=device)[None, :] < mb_y_len[:, None]\n",
    "            mb_out_mask = mb_out_mask.float()\n",
    "            \n",
    "            loss = loss_fn(mb_pred, mb_output, mb_out_mask)\n",
    "            \n",
    "            num_words = torch.sum(mb_y_len).item()\n",
    "            total_loss += loss.item() * num_words\n",
    "            total_num_words += num_words\n",
    "            \n",
    "            # 更新\n",
    "            optimizer.zero_grad()\n",
    "            loss.backward()\n",
    "            torch.nn.utils.clip_grad_norm_(model.parameters(), 5.)     # 防止梯度爆炸\n",
    "            optimizer.step()\n",
    "            \n",
    "            #if it % 100 == 0:\n",
    "            #   print('Epoch', epoch, 'iteration', it, 'loss', loss.item())\n",
    "       \n",
    "        #print('Epoch', epoch, 'Training loss', total_loss / total_num_words)\n",
    "        trainingloss = total_loss / total_num_words;\n",
    "        train_losses.append(trainingloss)\n",
    "        #if epoch % 5 == 0:\n",
    "        val_loss=evaluate(model, dev_data)\n",
    "        \n",
    "        epoch_len = len(str(num_epochs))\n",
    "        \n",
    "        print_msg = (f'[{epoch:>{epoch_len}}/{num_epochs:>{epoch_len}}] ' +\n",
    "                     f'train_loss: {trainingloss:.5f} ' +\n",
    "                     f'valid_loss: {val_loss:.5f}')\n",
    "        \n",
    "        print(print_msg)\n",
    "        \n",
    "        early_stopping(val_loss, model)\n",
    "        \n",
    "        if early_stopping.early_stop:\n",
    "            print(\"Early stopping\")\n",
    "            break\n",
    "        \n",
    "        model.load_state_dict(torch.load('checkpoint.pt'))\n",
    "            \n",
    "train(model, train_data, num_epochs=50, patience=5)"
   ]
  },
  {
   "cell_type": "code",
   "execution_count": 58,
   "id": "1c007c3f",
   "metadata": {},
   "outputs": [
    {
     "data": {
      "image/png": "[encoded data removed]",
      "text/plain": [
       "<Figure size 432x288 with 1 Axes>"
      ]
     },
     "metadata": {
      "needs_background": "light"
     },
     "output_type": "display_data"
    }
   ],
   "source": [
    "# epoch = range(num_epochs)\n",
    "# fig, ax = plt.subplots()\n",
    "# plt.plot(epoch, train_losses, 'g', label='Training loss')\n",
    "# plt.plot(epoch, val_losses, 'b', label='Validation loss')\n",
    "# plt.title('Training and Validation loss')\n",
    "# plt.xlabel('Epochs')\n",
    "# ax.set_xticks(epoch)\n",
    "# plt.ylabel('Loss')\n",
    "# plt.legend()\n",
    "# plt.show()\n",
    "\n",
    " # visualize the loss as the network trained\n",
    "fig = plt.figure()\n",
    "plt.plot(range(1,len(train_losses)+1),train_losses, label='Training Loss')\n",
    "plt.plot(range(1,len(val_losses)+1),val_losses,label='Validation Loss')\n",
    "\n",
    "# find position of lowest validation loss\n",
    "minposs = val_losses.index(min(val_losses))+1 \n",
    "plt.axvline(minposs, linestyle='--', color='r',label='Early Stopping Checkpoint')\n",
    "\n",
    "plt.xlabel('epochs')\n",
    "plt.ylabel('loss')\n",
    "#plt.ylim(1, 5) # consistent scale\n",
    "plt.xlim(0, len(train_losses)+1) # consistent scale\n",
    "#plt.grid(True)\n",
    "plt.legend()\n",
    "plt.tight_layout()\n",
    "plt.title('Training and Validation loss')\n",
    "plt.show()\n",
    "fig.savefig('loss_plot.png', bbox_inches='tight')"
   ]
  },
  {
   "cell_type": "code",
   "execution_count": 62,
   "id": "9c99a692",
   "metadata": {},
   "outputs": [],
   "source": [
    "def translate_dev(i):\n",
    "    text = \" \".join([int_to_vocab[w] for w in text_val[i]])\n",
    "    print(text)\n",
    "    summary = \" \".join([int_to_vocab[w] for w in summ_val[i]])\n",
    "    print(summary)\n",
    "\n",
    "    mb_x = torch.from_numpy(np.array(text_val[i]).reshape(1,-1)).long().to(device)\n",
    "    mb_x_len = torch.from_numpy(np.array([len(text_val[i])])).long().to(device)\n",
    "    # mb_y = torch.from_numpy(summ_val[i].reshape(1,-1)).long().to(device)\n",
    "    # mb_y_len = torch.from_numpy([len(summ_val[i])]).long().to(device)\n",
    "    bos = torch.Tensor([[vocab_to_int[\"<GO>\"]]]).long().to(device)\n",
    "    # 翻译时decoder的输入序列bos： [<GO>的index] \n",
    "    translation = model.translate(mb_x,mb_x_len, bos)\n",
    "    translation = [int_to_vocab[i] for i in translation.data.cpu().numpy().reshape(-1)]\n",
    "    trans = []\n",
    "    for word in translation:\n",
    "        if word !=\"<EOS>\":\n",
    "            trans.append(word)\n",
    "        else:\n",
    "            break\n",
    "    print(\" \".join(trans))\n",
    "    "
   ]
  },
  {
   "cell_type": "code",
   "execution_count": 63,
   "id": "bda18b4f",
   "metadata": {},
   "outputs": [
    {
     "name": "stdout",
     "output_type": "stream",
     "text": [
      "<GO> get large bags 3 dollars walmart 3 50 stop shop selling 5 dollars bag um thanks love though addicted buy target walmart youe grocery store though <EOS>\n",
      "<GO> bad deal <EOS>\n",
      "love these\n",
      "\n",
      "<GO> ordered product parents send denmark cost lot shipping fees upon arrival left disappointed <br ><br >the product trolli brand gummy worms rather gift shop type knock furthermore trolli sold store contain gluten celiac disease made obsolete <br ><br >in defense could old <UNK> brand worms used would old looked new taste consistency normal trolli worms <EOS>\n",
      "<GO> not as advertised <EOS>\n",
      "not as good as the original\n",
      "\n",
      "<GO> babies sour albeit sour coating disappears quickly leaving sweet lemon drop first time put one mouth think put hair chest expecting sour taste never tasted something quite sour another reviewer stated candies great surprising others given watched guests spit across room expecting initial sour bite even surprisingly addictive get local japanese grocery much cheaper amazon offers even shipping costs like sour bitter lemon candies ones chemical aftertaste <EOS>\n",
      "<GO> get ready to pucker <EOS>\n",
      "not a fan\n",
      "\n",
      "<GO> package arrived promptly contents excellent condition product tasty though slight bit peppery taste tried varieties like one texas bbq best mesquite also good much milder texture right would know meat blind taste test little wet jerky makes tad messy packet contains whopping 10 grams protein lot nutrition small lightweight packet ideal camping keeping car glovebox briefcase bag etc times need boost pepper would given 5 stars rate 4 stars enjoy <EOS>\n",
      "<GO> spirited jerky product <EOS>\n",
      "spirited jerky\n",
      "\n",
      "<GO> product quaker oatmeal express golden brown sugar fantastic even tastes better regular instant oatmeal packet maple brown sugar recommend anyone try guarantee love oatmeal <EOS>\n",
      "<GO> best on the go oatmeal <EOS>\n",
      "oatmeal\n",
      "\n",
      "<GO> love cider year round bought back summer cups iced cider found cider k cups add sugar make sweet enough drink seemed like brand tried made apple flavored tea cider love product right amount sweetness recently made splash rum yummy results <EOS>\n",
      "<GO> love it <EOS>\n",
      "love it\n",
      "\n",
      "<GO> american staffordshire aka pitbull 1 years old needs pretty tough toys loves toy 3rd nylabone toy really done much damage tell one far favorite <EOS>\n",
      "<GO> my pitbull loves it <EOS>\n",
      "my dog loves these\n",
      "\n",
      "<GO> searched searched food would meet dog nutritional needs well address issues allergies food totally answer us near expensive one vet wanted put loves love makes everyone happy <EOS>\n",
      "<GO> wonderful dog food <EOS>\n",
      "great dog food\n",
      "\n",
      "<GO> wow cannot believe threw stuff wasted money going ask refund amazon feel usda approved misleading <br ><br >this stuff stinks badly take trash tossed also hugely disappointed see product bolivia <br ><br >i looking nice organic usa grown freeze dried fruit saw usda approved assumed made usa says right label product bolivia <br ><br >if looking good snack strongly suggest checking <EOS>\n",
      "<GO> disgusting smells made in bolivia <EOS>\n",
      "this product is not the product\n",
      "\n",
      "<GO> love sweetened tea packaging found years ago fell love control strength sweetness looked high low stores finally amazon regularly ship please amazon keep stock <EOS>\n",
      "<GO> i love this citrus green tea <EOS>\n",
      "love this tea\n",
      "\n",
      "<GO> bought bulk animal rescue donation drive add care package returning immediately saw produced china realize time would never bought mean discriminate still leery buying pet products made china given extremely poor dangerous quality control bought three flavors chicken flavor particular gives pause bright almost neon yellow going back asap <EOS>\n",
      "<GO> made in china <EOS>\n",
      "do not buy this\n",
      "\n",
      "<GO> generally coffee drinker drink herbal tea late evenings going bed found smooth flavored tea medium body great blend touch orange flavor correct amount bergamot makes tea unique really enjoyed delicious cup tea <br ><br >1 <EOS>\n",
      "<GO> delicious tea <EOS>\n",
      "the best tea for tea lovers\n",
      "\n",
      "<GO> glad find amazon looking quite time success never thought look <br <UNK> flay uses frequently wanted try well pleased results adds another depth flavor others said careful use much powerful thicken quite alot <EOS>\n",
      "<GO> great product <EOS>\n",
      "not a dark\n",
      "\n",
      "<GO> billy bites banana nut bread die wonderful flavor moist perfect consistency able resist bread think stop one slice either would make great gifts <EOS>\n",
      "<GO> a b s o l u t e l y awesome <EOS>\n",
      "banana bread\n",
      "\n",
      "<GO> use syrup create coffee beanery signature drink caf eacute carmel perfect ounce two syrup 12 oz coffee use keurig caribou blend top whipped cream sprinkles shave ghirardelli delicious savings <EOS>\n",
      "<GO> ave coffee dollar <EOS>\n",
      "perfect for coffee lovers\n",
      "\n",
      "<GO> taste amazing bitter best espresso coffee tried still tried illy though would definitely reccomend anyone loves good strong cup coffee well worth money <EOS>\n",
      "<GO> best i have tried <EOS>\n",
      "best i have tried\n",
      "\n",
      "<GO> like others said consistency stage 2 combo thin could thickened oatmeal cereal 7 mth old loved flavor impatiently waited baby foods like contains spinach iron fruit antioxidants sweeten bit would use everyday home somewhat costly per pouch terrific option travel need something easy hand feed baby tried squeezing contents pouch mouth particularly like think used fed spoon older baby could squeeze eat find without spoon great option <EOS>\n",
      "<GO> baby loved it convenient pouch <EOS>\n",
      "baby liked it\n",
      "\n",
      "<GO> rice way better ordinary rice see supermarkets uncle ben rice roni etc <br > live planning buy warning good stop kind rice great <EOS>\n",
      "<GO> perfect taste <EOS>\n",
      "rice\n",
      "\n",
      "<GO> flavor reminds kool aid vitamin water flavor sweet light sense overly syrup mind artificial sweetener flavors issue notice bad aftertaste feel like plain water using cheaper buying separate bottles flavored water <EOS>\n",
      "<GO> like kool aid but easier <EOS>\n",
      "not the best\n",
      "\n",
      "<GO> excellent product received record time thanks good job taste perfect consistency thing question much plastic wasted container less half full time ever received product container half size slightly larger considered stop waste excess plastic may end landfills recycled wrote company three years ago asked would consider package modification never acknowledged <EOS>\n",
      "<GO> stevia <EOS>\n",
      "stevia\n",
      "\n"
     ]
    }
   ],
   "source": [
    "for i in range(110,130):\n",
    "    translate_dev(i)\n",
    "    print()"
   ]
  },
  {
   "cell_type": "code",
   "execution_count": 64,
   "id": "3522ab69",
   "metadata": {},
   "outputs": [
    {
     "name": "stdout",
     "output_type": "stream",
     "text": [
      "<GO> dried blue berry little chewy taste great add special k morning talk great bm fact eat much well never mind dont east much without eating bunch cheese afterwards <EOS>\n",
      "<GO> tastes great <EOS>\n",
      "great for diabetics\n"
     ]
    }
   ],
   "source": [
    "translate_dev(250)"
   ]
  },
  {
   "cell_type": "code",
   "execution_count": null,
   "id": "4989caac",
   "metadata": {},
   "outputs": [],
   "source": [
    "#torch.save(model.state_dict(), '\\\\Users\\\\SWong7923\\\\PycharmProjects\\\\pythonProject2\\\\model\\\\checkpoint.pt'"
   ]
  },
  {
   "cell_type": "code",
   "execution_count": null,
   "id": "7c36000c",
   "metadata": {},
   "outputs": [],
   "source": [
    "model.load_state_dict(torch.load('\\\\Users\\\\SWong7923\\\\PycharmProjects\\\\pythonProject2\\\\checkpoint.pt'))"
   ]
  }
 ],
 "metadata": {
  "kernelspec": {
   "display_name": "myenv1",
   "language": "python",
   "name": "myenv1"
  },
  "language_info": {
   "codemirror_mode": {
    "name": "ipython",
    "version": 3
   },
   "file_extension": ".py",
   "mimetype": "text/x-python",
   "name": "python",
   "nbconvert_exporter": "python",
   "pygments_lexer": "ipython3",
   "version": "3.6.13"
  }
 },
 "nbformat": 4,
 "nbformat_minor": 5
}
